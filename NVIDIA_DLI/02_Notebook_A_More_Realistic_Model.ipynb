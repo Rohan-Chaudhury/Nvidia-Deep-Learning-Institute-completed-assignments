{
 "cells": [
  {
   "cell_type": "markdown",
   "id": "b0aa8f90-a82c-4c5f-85cb-9d39fe812068",
   "metadata": {},
   "source": [
    "## Presentation"
   ]
  },
  {
   "cell_type": "markdown",
   "id": "392afb87-4365-4403-809d-c53665ed29b7",
   "metadata": {},
   "source": [
    "Please execute the cell below to view the slide presentation that the instructor will present at this time."
   ]
  },
  {
   "cell_type": "code",
   "execution_count": 2,
   "id": "8c9672eb-435a-4052-8608-b83e325f3d87",
   "metadata": {},
   "outputs": [
    {
     "data": {
      "text/html": [
       "<iframe src=\"https://view.officeapps.live.com/op/embed.aspx?src=https://developer.download.nvidia.com:443/training/courses/C-MG-01-V3/task1/2-v2.pptx\" width=\"610px\" height=\"367px\" frameborder=\"0\"></iframe>\n"
      ],
      "text/plain": [
       "<IPython.core.display.HTML object>"
      ]
     },
     "metadata": {},
     "output_type": "display_data"
    }
   ],
   "source": [
    "%%html\n",
    "<iframe src=\"https://view.officeapps.live.com/op/embed.aspx?src=https://developer.download.nvidia.com:443/training/courses/C-MG-01-V3/task1/2-v2.pptx\" width=\"610px\" height=\"367px\" frameborder=\"0\"></iframe>"
   ]
  },
  {
   "cell_type": "markdown",
   "id": "f4886a3b-deb5-4fc2-8ed1-b319af4c3532",
   "metadata": {},
   "source": [
    "# A more realistic model\n",
    "\n",
    "So far you've learned about the difference between gradient descent (i.e. a batch size equal to the full dataset) and mini-batch stochastic gradient descent (the batch size is smaller than the full dataset, usually much smaller). You've seen that smaller batch sizes add noise to the optimization process, which can help with avoiding getting trapped in local minima or slowed down at a saddle point. A smaller batch size will also mean running back-propagation and updating the gradients more times per epoch (taking more steps).\n",
    "\n",
    "In this lab you'll be experimenting with batch size on a more complex dataset and model. You will see the effect of batch size on GPU performance, as well as on the accuracy of training."
   ]
  },
  {
   "cell_type": "markdown",
   "id": "16ac43b0-220b-49be-aeeb-2e9385404312",
   "metadata": {},
   "source": [
    "## The Fashion-MNIST Dataset\n",
    "\n",
    "The [Fashion-MNIST dataset](https://github.com/zalandoresearch/fashion-mnist) is a response to the traditional MNIST dataset, which is often referred to as the \"hello world\" of machine learning. The original MNIST dataset consists of 60,000 pictures of handwritten digits, 0-9. One of the downsides of this dataset is its simplicity. Good performance of a model on the dataset does not indicate that the model will perform well on a more complicated set of images.\n",
    "\n",
    "The Fashion-MNIST dataset was created to be a moderately more complex image classification challenge. It follows the same format as the original MNIST set, with 10 categories and 60,000 images, each 28x28 pixels (plus 10,000 testing images). We'll be training on this dataset for this exercise, as well as for the next labs where we'll introduce training with multiple GPUs. \n",
    "\n",
    "<img src=\"./images/Fashion MNIST.png\"> "
   ]
  },
  {
   "cell_type": "markdown",
   "id": "d461e540-2e10-47b2-b7a2-51c7f24012b0",
   "metadata": {},
   "source": [
    "## The Wide ResNet Model\n",
    "\n",
    "We'll be using a Wide Residual Network to train on this dataset, which is a convolutional neural network proven to perform very well in image classification challenges. Feel free to take some time to learn more about [wide residual networks](https://arxiv.org/abs/1605.07146), the original [residual networks](https://arxiv.org/abs/1512.03385) they are based on, or about [convolutional neural networks](https://developer.nvidia.com/discover/convolutional-neural-network) in general.\n",
    "\n",
    "![wideresnet](./images/wideresnet.png)\n",
    "\n",
    "In the early days of CNNs, the community drove towards very deep models (many tens or hundreds of layers), but as computing power advanced and algorithms improved, in particular after the idea of the residual block was demonstrated, it became more desirable to swing back towards shallower networks with wider layers, which was the primary innovation of the WideResNet family of models. The WideResNet-16-10 we will use below can achieve with O(10 million) parameters accuracy that is competitive with much deeper networks with more parameters."
   ]
  },
  {
   "cell_type": "markdown",
   "id": "c8c761fd-ec03-471b-89cf-906d550a99ca",
   "metadata": {},
   "source": [
    "## Training our Model\n",
    "\n",
    "We'll start by running training on the existing dataset with default hyperparameters. Please take a few minutes to look through `fashion_mnist.py`, and get familiar with the training. We're using PyTorch for this training, but the takeaways of these exercises should translate to other frameworks.\n",
    "\n",
    "Notice that we're only training on 1/6 of the dataset (10,000 images) for this exercise. We're doing this to keep epoch times short so that we can run quick experiments and see the effects of batch size. When we start introducing multiple GPUs to speed up the training, we'll use the entire dataset.\n",
    "\n",
    "Once you have a good sense of the code, execute the cell below to run a few epochs. Pay attention to the validation accuracy, validation loss, and epoch time."
   ]
  },
  {
   "cell_type": "code",
   "execution_count": 3,
   "id": "137ac986-d161-4b95-aeb9-b786a1dc9213",
   "metadata": {},
   "outputs": [
    {
     "name": "stdout",
     "output_type": "stream",
     "text": [
      "Downloading http://fashion-mnist.s3-website.eu-central-1.amazonaws.com/train-images-idx3-ubyte.gz\n",
      "Downloading http://fashion-mnist.s3-website.eu-central-1.amazonaws.com/train-images-idx3-ubyte.gz to ./data/FashionMNIST/raw/train-images-idx3-ubyte.gz\n",
      "100%|█████████████████████████| 26421880/26421880 [00:02<00:00, 13124298.99it/s]\n",
      "Extracting ./data/FashionMNIST/raw/train-images-idx3-ubyte.gz to ./data/FashionMNIST/raw\n",
      "\n",
      "Downloading http://fashion-mnist.s3-website.eu-central-1.amazonaws.com/train-labels-idx1-ubyte.gz\n",
      "Downloading http://fashion-mnist.s3-website.eu-central-1.amazonaws.com/train-labels-idx1-ubyte.gz to ./data/FashionMNIST/raw/train-labels-idx1-ubyte.gz\n",
      "100%|█████████████████████████████████| 29515/29515 [00:00<00:00, 327369.78it/s]\n",
      "Extracting ./data/FashionMNIST/raw/train-labels-idx1-ubyte.gz to ./data/FashionMNIST/raw\n",
      "\n",
      "Downloading http://fashion-mnist.s3-website.eu-central-1.amazonaws.com/t10k-images-idx3-ubyte.gz\n",
      "Downloading http://fashion-mnist.s3-website.eu-central-1.amazonaws.com/t10k-images-idx3-ubyte.gz to ./data/FashionMNIST/raw/t10k-images-idx3-ubyte.gz\n",
      "100%|████████████████████████████| 4422102/4422102 [00:00<00:00, 6074191.23it/s]\n",
      "Extracting ./data/FashionMNIST/raw/t10k-images-idx3-ubyte.gz to ./data/FashionMNIST/raw\n",
      "\n",
      "Downloading http://fashion-mnist.s3-website.eu-central-1.amazonaws.com/t10k-labels-idx1-ubyte.gz\n",
      "Downloading http://fashion-mnist.s3-website.eu-central-1.amazonaws.com/t10k-labels-idx1-ubyte.gz to ./data/FashionMNIST/raw/t10k-labels-idx1-ubyte.gz\n",
      "100%|█████████████████████████████████| 5148/5148 [00:00<00:00, 42337798.02it/s]\n",
      "Extracting ./data/FashionMNIST/raw/t10k-labels-idx1-ubyte.gz to ./data/FashionMNIST/raw\n",
      "\n",
      "Epoch =  1: Epoch Time = 18.113, Validation Loss = 0.540, Validation Accuracy = 0.795\n",
      "Epoch =  2: Epoch Time = 17.451, Validation Loss = 0.450, Validation Accuracy = 0.836\n",
      "Epoch =  3: Epoch Time = 17.649, Validation Loss = 0.437, Validation Accuracy = 0.844\n",
      "Epoch =  4: Epoch Time = 17.859, Validation Loss = 0.400, Validation Accuracy = 0.861\n",
      "Epoch =  5: Epoch Time = 18.124, Validation Loss = 0.498, Validation Accuracy = 0.834\n"
     ]
    }
   ],
   "source": [
    "!python fashion_mnist.py --epochs 5"
   ]
  },
  {
   "cell_type": "markdown",
   "id": "8688db8a-d454-4e81-8f10-815b71d5c3a2",
   "metadata": {},
   "source": [
    "We are about to make some edits to this file, so let's make a copy of this file that you can refer to or back up to if you make any mistakes."
   ]
  },
  {
   "cell_type": "code",
   "execution_count": 5,
   "id": "970dc398-fd42-49f4-8665-fa95eb185c1b",
   "metadata": {},
   "outputs": [],
   "source": [
    "!cp fashion_mnist.py fashion_mnist_original.py"
   ]
  },
  {
   "cell_type": "markdown",
   "id": "3c971a19-143c-4f02-9e85-ba76d7ae8cb5",
   "metadata": {},
   "source": [
    "## Training Performance - Images/Second\n",
    "\n",
    "One way of measuring the performance of our training is how much data is being processed for a given unit of time. GPUs are highly optimized for parallel processing, and many aspects of the training process utilize this parallelism. Take a moment to think about why batch size might have an effect on the GPUs ability to parallelize, and what might happen to the performance. \n",
    "\n",
    "In this exercise, you'll implement the feature to report how many images are processed each second as the neural network trains. You'll then adjust the batch size to see empirically how performance (or throughput) is affected."
   ]
  },
  {
   "cell_type": "markdown",
   "id": "7c9d8d31-97ef-496d-ac69-d8ceb4fea394",
   "metadata": {},
   "source": [
    "### Computing Image Throughput\n",
    "\n",
    "PyTorch gives us complete control over the training loop. We'll be making use of this flexibility to compute and report images/second throughput for each epoch. Take a moment to look at `TODO Step 1` locations in `fashion_mnist.py` and implement the image throughput calculation.\n",
    "\n",
    "Once you've completed the implementation, execute the training again and pay attention to the image throughput.\n",
    "\n",
    "If you get stuck, feel free to reference [solutions/fashion_mnist_after_step_01.py](solutions/fashion_mnist_after_step_01.py)."
   ]
  },
  {
   "cell_type": "code",
   "execution_count": 8,
   "id": "f68382be-9d48-4d7d-9eef-7b6da6d59c52",
   "metadata": {},
   "outputs": [
    {
     "name": "stdout",
     "output_type": "stream",
     "text": [
      "Epoch =  1: Epoch Time = 18.168, Validation Loss = 0.524, Validation Accuracy = 0.804, Images/sec = 549.5303871670769\n",
      "Epoch =  2: Epoch Time = 17.363, Validation Loss = 0.434, Validation Accuracy = 0.844, Images/sec = 575.0293115755228\n",
      "Epoch =  3: Epoch Time = 17.407, Validation Loss = 0.411, Validation Accuracy = 0.854, Images/sec = 573.5701117267819\n"
     ]
    }
   ],
   "source": [
    "!python fashion_mnist.py --epochs 3"
   ]
  },
  {
   "cell_type": "markdown",
   "id": "2a7c811b-dda3-4e85-9f81-3223a95d12bf",
   "metadata": {},
   "source": [
    "You'll notice that the throughput increases after the first epoch. This can be attributed to one time costs such as data loading and memory allocation. For the next exercise, just focus on the throughput in the second epoch and beyond."
   ]
  },
  {
   "cell_type": "markdown",
   "id": "d711fdeb-e3d5-4d1b-aa66-f3d2e6d53afe",
   "metadata": {},
   "source": [
    "### Comparing Throughput by Batch Size\n",
    "\n",
    "In this exercise you'll be calculating training throughput as a function of batch size. Execute the next cell several times as you adjust the batch size. Enter the data in the cell below (replace each \"FIXME\" with the images/sec throughput for the corresponding batch size), and execute it to see a plot of the data."
   ]
  },
  {
   "cell_type": "code",
   "execution_count": 9,
   "id": "a9e56b20-3337-40c4-984d-d1cc35e40eca",
   "metadata": {},
   "outputs": [
    {
     "name": "stdout",
     "output_type": "stream",
     "text": [
      "Epoch =  1: Epoch Time = 32.090, Validation Loss = 0.599, Validation Accuracy = 0.759, Images/sec = 311.62552987731345\n",
      "Epoch =  2: Epoch Time = 31.416, Validation Loss = 0.482, Validation Accuracy = 0.817, Images/sec = 318.30975654180077\n",
      "Epoch =  3: Epoch Time = 31.734, Validation Loss = 0.409, Validation Accuracy = 0.857, Images/sec = 315.1208581965755\n",
      "Epoch =  4: Epoch Time = 32.390, Validation Loss = 0.430, Validation Accuracy = 0.864, Images/sec = 308.73954526991673\n",
      "Epoch =  5: Epoch Time = 33.272, Validation Loss = 0.405, Validation Accuracy = 0.884, Images/sec = 300.55686125808916\n"
     ]
    }
   ],
   "source": [
    "!python fashion_mnist.py --epochs 5 --batch-size 8"
   ]
  },
  {
   "cell_type": "code",
   "execution_count": 10,
   "id": "b7b363d3-7265-46fa-9f2e-6bebfb062f08",
   "metadata": {},
   "outputs": [
    {
     "name": "stdout",
     "output_type": "stream",
     "text": [
      "Epoch =  1: Epoch Time = 23.337, Validation Loss = 0.675, Validation Accuracy = 0.734, Images/sec = 428.5066945691418\n",
      "Epoch =  2: Epoch Time = 22.714, Validation Loss = 0.651, Validation Accuracy = 0.749, Images/sec = 440.2622769506034\n",
      "Epoch =  3: Epoch Time = 22.766, Validation Loss = 0.420, Validation Accuracy = 0.846, Images/sec = 439.25872785670464\n",
      "Epoch =  4: Epoch Time = 22.692, Validation Loss = 0.409, Validation Accuracy = 0.859, Images/sec = 440.6805076405982\n",
      "Epoch =  5: Epoch Time = 22.707, Validation Loss = 0.410, Validation Accuracy = 0.873, Images/sec = 440.3874015283401\n"
     ]
    }
   ],
   "source": [
    "!python fashion_mnist.py --epochs 5 --batch-size 16"
   ]
  },
  {
   "cell_type": "code",
   "execution_count": 11,
   "id": "64190166-755e-4a8f-96a3-4bc4f0b166e2",
   "metadata": {},
   "outputs": [
    {
     "name": "stdout",
     "output_type": "stream",
     "text": [
      "Epoch =  1: Epoch Time = 18.094, Validation Loss = 0.674, Validation Accuracy = 0.747, Images/sec = 551.7813455960513\n",
      "Epoch =  2: Epoch Time = 17.455, Validation Loss = 0.556, Validation Accuracy = 0.787, Images/sec = 571.9874587076922\n",
      "Epoch =  3: Epoch Time = 17.379, Validation Loss = 0.481, Validation Accuracy = 0.818, Images/sec = 574.4967754881815\n",
      "Epoch =  4: Epoch Time = 17.180, Validation Loss = 0.441, Validation Accuracy = 0.836, Images/sec = 581.1296976179152\n",
      "Epoch =  5: Epoch Time = 17.161, Validation Loss = 0.434, Validation Accuracy = 0.842, Images/sec = 581.7746272018985\n"
     ]
    }
   ],
   "source": [
    "!python fashion_mnist.py --epochs 5 --batch-size 128"
   ]
  },
  {
   "cell_type": "code",
   "execution_count": 12,
   "id": "6f5c795c-48f4-493b-aa03-31e92de98096",
   "metadata": {},
   "outputs": [
    {
     "name": "stdout",
     "output_type": "stream",
     "text": [
      "Epoch =  1: Epoch Time = 17.023, Validation Loss = 2.330, Validation Accuracy = 0.106, Images/sec = 571.4624435355722\n",
      "Epoch =  2: Epoch Time = 16.640, Validation Loss = 1.425, Validation Accuracy = 0.473, Images/sec = 584.613328720867\n",
      "Epoch =  3: Epoch Time = 16.517, Validation Loss = 0.783, Validation Accuracy = 0.726, Images/sec = 588.9753698086898\n",
      "Epoch =  4: Epoch Time = 16.486, Validation Loss = 0.663, Validation Accuracy = 0.762, Images/sec = 590.0613563203503\n",
      "Epoch =  5: Epoch Time = 16.448, Validation Loss = 0.616, Validation Accuracy = 0.771, Images/sec = 591.4341436237276\n"
     ]
    }
   ],
   "source": [
    "!python fashion_mnist.py --epochs 5 --batch-size 512"
   ]
  },
  {
   "cell_type": "code",
   "execution_count": 13,
   "id": "c140eaf9-53c3-4b97-83df-164d92f54eef",
   "metadata": {},
   "outputs": [
    {
     "data": {
      "application/vnd.jupyter.widget-view+json": {
       "model_id": "8aebe3ce5e7146999e50fdba1f417633",
       "version_major": 2,
       "version_minor": 0
      },
      "image/png": "[encoded data removed]",
      "text/html": [
       "\n",
       "            <div style=\"display: inline-block;\">\n",
       "                <div class=\"jupyter-widgets widget-label\" style=\"text-align: center;\">\n",
       "                    Figure\n",
       "                </div>\n",
       "                <img src='data:image/png;base64,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' width=640.0/>\n",
       "            </div>\n",
       "        "
      ],
      "text/plain": [
       "Canvas(toolbar=Toolbar(toolitems=[('Home', 'Reset original view', 'home', 'home'), ('Back', 'Back to previous …"
      ]
     },
     "metadata": {},
     "output_type": "display_data"
    }
   ],
   "source": [
    "%matplotlib widget\n",
    "import matplotlib.pyplot as plt\n",
    "\n",
    "data = [('8', 322),\n",
    "        ('16', 485),\n",
    "        ('32', 575),\n",
    "        ('64', 628),\n",
    "        ('128', 652),\n",
    "        ('256', 657),\n",
    "        ('512', 680),\n",
    "        ('700', 683)]\n",
    "\n",
    "x,y = zip(*data)\n",
    "plt.bar(x,y)\n",
    "plt.ylabel(\"Throughput (images / sec)\")\n",
    "plt.xlabel(\"Batch Size\")\n",
    "plt.show()"
   ]
  },
  {
   "cell_type": "markdown",
   "id": "543c2516-9ea7-46b9-a692-67f48e96dc94",
   "metadata": {},
   "source": [
    "If you don't want to manually find each datapoint, you can reveal the code block below and copy over the provided data. These values may vary slightly from what you may have produced with your own code, but were generated on the same compute environment as you are currently using."
   ]
  },
  {
   "cell_type": "markdown",
   "id": "fbd97bd1-174b-4dab-9e5d-a92d150b7e3d",
   "metadata": {
    "tags": []
   },
   "source": [
    "```python\n",
    "data = [('8', 322),\n",
    "        ('16', 485),\n",
    "        ('32', 575),\n",
    "        ('64', 628),\n",
    "        ('128', 652),\n",
    "        ('256', 657),\n",
    "        ('512', 680),\n",
    "        ('700', 683)]\n",
    "```"
   ]
  },
  {
   "cell_type": "markdown",
   "id": "971f0b44-0082-4f8a-a64e-ac6184640dcb",
   "metadata": {},
   "source": [
    "Take some time to look at the data and think about what might be going on. Once you have some hypotheses, reveal the block below."
   ]
  },
  {
   "cell_type": "markdown",
   "id": "4b8fc6df-e876-4b6b-8376-68de485ebf3f",
   "metadata": {},
   "source": [
    "It's clear that throughput is increasing with batch size. This makes sense due to the parallel processing nature of the GPU. A larger batch size means more images can be run through the model in parallel to calculate the loss before back-propagation. This takes advantage of the thousands of cores that are in the GPU. \n",
    "\n",
    "However, throughput does not increase linearly with batch size, and there are diminishing returns as the batch size increases. Eventually, you will have saturated the compute capacity of the GPU. GPUs work effectively when they can spawn tens or hundreds of thousands of threads at once, and for small batch sizes there's not enough to work use all the threads the GPU can execute. Since GPU processing performance depends on hiding latency by having lots of work to do, performance for small batches will be relatively poor, and performance for large enough batches will eventually use all the GPU cores effectively, and the throughput (number of images processed per second) will approach a ceiling."
   ]
  },
  {
   "cell_type": "markdown",
   "id": "8ac11505-1aa5-49f9-ad17-e2422a037e68",
   "metadata": {},
   "source": [
    "## Training Performance: Time to Accuracy\n",
    "\n",
    "At this point you might want to pick the highest possible batch size for training to achieve the highest throughput. However, while throughput is an important measurement of the training process, it doesn't indicate how well the model is being trained with respect to its purpose: inference. \n",
    "\n",
    "In our case, the model is only as good as its ability to correctly identify the class of clothing in a given image. Our measurement of this is reported in the validation accuracy, which reflects how effectively the model makes predictions on a separate dataset that we did not train on.\n",
    "\n",
    "Think about how batch size might affect the model's ability to be accurate. Remember that noise introduced with smaller batch sizes is a helpful tool in the training process.\n",
    "\n",
    "In this next exercise, you'll once again adjust batch size, comparing the total training time before a given accuracy is reached."
   ]
  },
  {
   "cell_type": "markdown",
   "id": "c8a10fa8-c362-4e8e-8bea-9cd41b7430c3",
   "metadata": {},
   "source": [
    "### Early Stopping\n",
    "\n",
    "To implement early stopping, we have to specify a target accuracy as well as a patience value. The patience determines how many epochs should surpass a target accuracy before the training should stop. Sometimes validation accuracy can unexpectedly spike before the network is effectively trained. Maintaining a high accuracy over more than one epoch gives us a better confidence that the network is well-trained, and can generalize effectively.\n",
    "\n",
    "Implement the early stopping feature in `fashion_mnist.py`. Look for `TODO Step 2`. Finally, run the training below with the given target accuracy and patience value. If you get stuck, you can check out `solutions/fashion_mnist_after_step_02.py`."
   ]
  },
  {
   "cell_type": "code",
   "execution_count": 14,
   "id": "8e2352da-2461-49a4-8dd3-974133fd2b8e",
   "metadata": {},
   "outputs": [
    {
     "name": "stdout",
     "output_type": "stream",
     "text": [
      "Epoch =  1: Epoch Time = 19.667, Validation Loss = 0.525, Validation Accuracy = 0.800, Images/sec = 507.6635074271914\n",
      "Epoch =  2: Epoch Time = 19.124, Validation Loss = 0.413, Validation Accuracy = 0.850, Images/sec = 522.077582656633\n",
      "Epoch =  3: Epoch Time = 19.265, Validation Loss = 0.378, Validation Accuracy = 0.866, Images/sec = 518.2410370302864\n",
      "Early stopping after epoch 3\n"
     ]
    }
   ],
   "source": [
    "!python fashion_mnist.py --target-accuracy .82 --patience 2"
   ]
  },
  {
   "cell_type": "markdown",
   "id": "7fdab5c5-f57b-4516-b099-6a87cb65bff8",
   "metadata": {},
   "source": [
    "### Report Total Training Time\n",
    "\n",
    "Now that you've got the training to stop after it reaches a certain accuracy, the next step is to report the total training time so that you can compare runs against each other. Look for `TODO Step 3` in `fashion_mnist.py`. If you get stuck, you can check out `solutions/fashion_mnist_after_step_03.py`.\n",
    "\n",
    "Once you're done, run the file again to test out the functionality. For this exercise it's OK to use a lower target accuracy or to use a lower patience threshold, since we're just making sure we got the code right."
   ]
  },
  {
   "cell_type": "code",
   "execution_count": 15,
   "id": "e1e3d5ed-b684-477d-8c3e-096e182cde98",
   "metadata": {},
   "outputs": [
    {
     "name": "stdout",
     "output_type": "stream",
     "text": [
      "Epoch =  1: Epoch Time = 19.001, Validation Loss = 0.520, Validation Accuracy = 0.805, Images/sec = 525.4384821332617\n",
      "Epoch =  2: Epoch Time = 18.499, Validation Loss = 0.445, Validation Accuracy = 0.834, Images/sec = 539.6940168061426\n",
      "Epoch =  3: Epoch Time = 18.874, Validation Loss = 0.389, Validation Accuracy = 0.856, Images/sec = 528.9859291229441\n",
      "Early stopping after epoch 3\n"
     ]
    }
   ],
   "source": [
    "!python fashion_mnist.py --target-accuracy .82 --patience 2"
   ]
  },
  {
   "cell_type": "markdown",
   "id": "93792f99-35a5-4a42-ad12-6b87f3250c08",
   "metadata": {},
   "source": [
    "### Comparing Accuracy with Batch Size\n",
    "\n",
    "You now have a system to compare the effectiveness of batch size in terms of time to a certain accuracy (we suggest between .82 and .85). Try out several batch sizes to see the effects on the validation accuracy.  Notice what happens when your batch size is especially low or high. Consider repeating training with the same batch size one or multiple times to evaluate the consistency of the results. "
   ]
  },
  {
   "cell_type": "code",
   "execution_count": null,
   "id": "edef42cc-4168-4368-a1c0-885aac71c4c7",
   "metadata": {},
   "outputs": [
    {
     "name": "stdout",
     "output_type": "stream",
     "text": [
      "Epoch =  1: Epoch Time = 34.364, Validation Loss = 0.616, Validation Accuracy = 0.762, Images/sec = 291.0061399163374\n",
      "Epoch =  2: Epoch Time = 33.965, Validation Loss = 0.482, Validation Accuracy = 0.819, Images/sec = 294.42017822276756\n"
     ]
    }
   ],
   "source": [
    "!python fashion_mnist.py --batch-size 8 --target-accuracy .82 --patience 2"
   ]
  },
  {
   "cell_type": "code",
   "execution_count": null,
   "id": "4d09b397-935c-4393-98ab-a6e94f96f158",
   "metadata": {},
   "outputs": [],
   "source": [
    "!python fashion_mnist.py --batch-size 256 --target-accuracy .82 --patience 2"
   ]
  },
  {
   "cell_type": "markdown",
   "id": "8332ce02-d8e4-4329-9cf4-f0cd37a49077",
   "metadata": {},
   "source": [
    "Record and consider your results before revealing the next section."
   ]
  },
  {
   "cell_type": "markdown",
   "id": "43a66dbe-e860-464f-9966-e6ce0a7eac99",
   "metadata": {},
   "source": [
    "The results you obtained probably pointed you in a couple of general directions. In particular, very small or large batch sizes may not be optimal for convergence (very small batches tend to be far too noisy to converge adequately to the minimum of the loss function, while very large batches tend to diverge in the early part of the training). However, you also probably saw that there's a lot of randomness in the results, and it is hard to generalize very well. That's OK, and it's actually a good thing, because not everything you learn today will apply the same way to every model and dataset. The goal of this course is to build intuition about how to think about the process of neural network optimization, not to learn a set of rules to apply blindly in production."
   ]
  },
  {
   "cell_type": "markdown",
   "id": "a9d93c9a-718d-4121-ac02-c83a2352d5f5",
   "metadata": {
    "tags": []
   },
   "source": [
    "## Conclusion\n",
    "\n",
    "In this part of the class we have learned:\n",
    "\n",
    "- How to train a more sophisticated and realistic neural network model than the one we used before\n",
    "- How to implement several custom features in PyTorch and measure training performance in terms of both accuracy and throughput\n",
    "- How batch size affects training accuracy for a more realistic model\n",
    "\n",
    "This concludes Lab 1. In Lab 2, we will learn how to extend this training process to multiple GPUs."
   ]
  },
  {
   "cell_type": "markdown",
   "id": "0d9d728a-08ed-4ec1-b2b9-8180354e5f76",
   "metadata": {},
   "source": [
    "### Presentation"
   ]
  },
  {
   "cell_type": "markdown",
   "id": "3f132270-e260-4b11-af1e-7b5ee96a633d",
   "metadata": {},
   "source": [
    "Before concluding this section please execute the cell below to view the slide presentation that the instructor present at this time."
   ]
  },
  {
   "cell_type": "code",
   "execution_count": null,
   "id": "a0bcee0c-dc5b-4e2d-a883-5967df0c2977",
   "metadata": {},
   "outputs": [],
   "source": [
    "%%html\n",
    "<iframe src=\"https://view.officeapps.live.com/op/embed.aspx?src=https://developer.download.nvidia.com:443/training/courses/C-MG-01-V3/task1/3-v2.pptx\" width=\"610px\" height=\"367px\" frameborder=\"0\"></iframe>"
   ]
  },
  {
   "cell_type": "code",
   "execution_count": null,
   "id": "dc792664-c1b8-4e19-a636-ccdd5a7123f6",
   "metadata": {},
   "outputs": [],
   "source": []
  }
 ],
 "metadata": {
  "jupytext": {
   "formats": "ipynb"
  },
  "kernelspec": {
   "display_name": "Python 3 (ipykernel)",
   "language": "python",
   "name": "python3"
  },
  "language_info": {
   "codemirror_mode": {
    "name": "ipython",
    "version": 3
   },
   "file_extension": ".py",
   "mimetype": "text/x-python",
   "name": "python",
   "nbconvert_exporter": "python",
   "pygments_lexer": "ipython3",
   "version": "3.8.13"
  }
 },
 "nbformat": 4,
 "nbformat_minor": 5
}
