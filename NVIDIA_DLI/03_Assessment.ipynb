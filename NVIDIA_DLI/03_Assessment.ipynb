{
 "cells": [
  {
   "cell_type": "markdown",
   "id": "42303c78-859f-4aa5-a133-e9846c01d6f5",
   "metadata": {},
   "source": [
    "<img src=\"./images/DLI_Header.png\">"
   ]
  },
  {
   "cell_type": "markdown",
   "id": "6a2cd73d-6857-4785-b153-0ea44b7890a4",
   "metadata": {},
   "source": [
    "# Workshop Assessment"
   ]
  },
  {
   "cell_type": "markdown",
   "id": "52f532b4-6be6-446d-8ab7-36483dbaabec",
   "metadata": {},
   "source": [
    "Congratulations on all your work thus far in the workshop! You have covered a lot of ground, and now is your chance to demonstrate what you've learned on a novel problem. If you are able to do so successfully you will earn a certificate of competency in the course."
   ]
  },
  {
   "cell_type": "markdown",
   "id": "3a9a2659-ce01-4d7c-8707-2b0cd0ca10c0",
   "metadata": {},
   "source": [
    "## Assessment Duration"
   ]
  },
  {
   "cell_type": "markdown",
   "id": "2ab0d146-83b3-4bbc-b9c5-d64fc98ddddd",
   "metadata": {},
   "source": [
    "You may or may not have sufficient time to complete this assessment before the allotted time for the workshop today. Please don't worry, if you are unable to complete the assessment before the workshop ends today, you may return to this interactive session at your leisure to try the assessment again.\n",
    "\n",
    "Your work will **not be saved** in between interactive sessions, so it is important if you would like to continue where you leave off between interactive sessions to **save any relevant files to your local machine** before exiting an interactive session and then, via JupyterLab's file menu, drag and drop them back into new interactive sessions, so you can pick up where you left off.\n",
    "\n",
    "You might consider taking a look at the browser tab where you launched this interactive sessions to check how much time you have remaining at the moment before your session times out. Again, you can use that same browser page to re-launch the session at your leisure."
   ]
  },
  {
   "cell_type": "markdown",
   "id": "606c63cc-4695-48d5-9359-18bf164a31b9",
   "metadata": {},
   "source": [
    "## The Assessment Prompt"
   ]
  },
  {
   "cell_type": "markdown",
   "id": "7fe60fce-1b2f-4dd7-b019-ea3a977c4379",
   "metadata": {},
   "source": [
    "For the assessment, you will refactor [`assessment.py`](assessment.py), which already runs successfully on a single GPU, to run instead on all 4 GPUs available in this environment, using `DDP`. Open [the file now](assessment.py) and spend several minutes familiarizing yourself with the code, which you'll notice trains on [the CIFAR-10 dataset](https://www.cs.toronto.edu/~kriz/cifar.html), which consists of 60000 32x32 color images in 10 classes, with 6000 images per class. There are 50000 training images and 10000 test images.\n",
    "\n",
    "**Your goal will be to achieve a validation accuracy of at 0.75 for at least two consecutive epochs in under 240 seconds.**\n",
    "\n",
    "As it stands, `assessment.py` can achieve a validation accuracy of 0.75 for at least two consecutive epochs, however, it takes well over the allotted time to do so. Immediately below is the output from a run of `assessment.py` performed at an earlier time, so that you do not have to take the time to run the script yourself:"
   ]
  },
  {
   "cell_type": "markdown",
   "id": "47a6e41c-2467-4af2-b80d-b8180db9ab8d",
   "metadata": {},
   "source": [
    "```\n",
    "Epoch =  1: Cumulative Time = 88.982, Epoch Time = 88.982, Images/sec = 561.0093580791115, Training Accuracy = 0.505, Validation Loss = 1.126, Validation Accuracy = 0.611\n",
    "Epoch =  2: Cumulative Time = 177.335, Epoch Time = 88.353, Images/sec = 565.0089655045808, Training Accuracy = 0.685, Validation Loss = 0.885, Validation Accuracy = 0.708\n",
    "Epoch =  3: Cumulative Time = 264.656, Epoch Time = 87.321, Images/sec = 571.6856192674654, Training Accuracy = 0.747, Validation Loss = 0.604, Validation Accuracy = 0.800\n",
    "Epoch =  4: Cumulative Time = 352.513, Epoch Time = 87.857, Images/sec = 568.1936135215041, Training Accuracy = 0.781, Validation Loss = 0.566, Validation Accuracy = 0.808\n",
    "Early stopping after epoch 4\n",
    "```"
   ]
  },
  {
   "cell_type": "markdown",
   "id": "b7f4c913-a210-4178-8c5b-5abe61ac2b1f",
   "metadata": {},
   "source": [
    "However, if you would like to run the script yourself, feel free to execute the cell below:"
   ]
  },
  {
   "cell_type": "code",
   "execution_count": 4,
   "id": "301057d7-0114-4f5c-a5fc-95c00616d133",
   "metadata": {},
   "outputs": [
    {
     "name": "stdout",
     "output_type": "stream",
     "text": [
      "Downloading https://www.cs.toronto.edu/~kriz/cifar-10-python.tar.gz to ./data/cifar-10-python.tar.gz\n",
      " 45%|██████████▊             | 76742656/170498071 [00:01<00:01, 76306699.98it/s]^C\n",
      "Traceback (most recent call last):\n",
      "  File \"assessment.py\", line 309, in <module>\n",
      " 47%|███████████▏            | 79364096/170498071 [00:01<00:01, 69662494.65it/s]\n",
      "    torch.multiprocessing.spawn(worker, nprocs=args.num_gpus, args=(args,))\n",
      "  File \"/opt/conda/lib/python3.8/site-packages/torch/multiprocessing/spawn.py\", line 240, in spawn\n",
      "    return start_processes(fn, args, nprocs, join, daemon, start_method='spawn')\n",
      "  File \"/opt/conda/lib/python3.8/site-packages/torch/multiprocessing/spawn.py\", line 198, in start_processes\n",
      "    while not context.join():\n",
      "  File \"/opt/conda/lib/python3.8/site-packages/torch/multiprocessing/spawn.py\", line 109, in join\n",
      "    ready = multiprocessing.connection.wait(\n",
      "  File \"/opt/conda/lib/python3.8/multiprocessing/connection.py\", line 931, in wait\n",
      "    ready = selector.select(timeout)\n",
      "  File \"/opt/conda/lib/python3.8/selectors.py\", line 415, in select\n",
      "    fd_event_list = self._selector.poll(timeout)\n",
      "KeyboardInterrupt\n"
     ]
    }
   ],
   "source": [
    "!python3 assessment.py --batch-size 128 --target-accuracy 0.75 --patience 2"
   ]
  },
  {
   "cell_type": "markdown",
   "id": "7d823507-f745-47f5-87be-cc1c2d9a094d",
   "metadata": {},
   "source": [
    "## Guidelines for the Assessment"
   ]
  },
  {
   "cell_type": "markdown",
   "id": "cb6b379d-6b47-4667-80a2-465385b6a855",
   "metadata": {},
   "source": [
    "For the sake of your own learning, we challenge you to work as much from scratch as you can to solve the assessment. However, to support you in your work, should you need them, a copy of both [the notebook](99_Reference_DDP.ipynb) and [the solution script](lab-2_fashion_mnist_solution.py) from lab 2 have been provided to you to serve as a refresher.\n",
    "\n",
    "You should run the cell below to check your work. Please note that you will need to update `assessment.py`, at the least to expect additional arguments, before the cell below will run without error."
   ]
  },
  {
   "cell_type": "code",
   "execution_count": 5,
   "id": "b3833a28-3d3b-4ed3-be7a-b13d8d38ab4b",
   "metadata": {},
   "outputs": [
    {
     "name": "stdout",
     "output_type": "stream",
     "text": [
      "Downloading https://www.cs.toronto.edu/~kriz/cifar-10-python.tar.gz to ./data/cifar-10-python.tar.gz\n",
      "100%|███████████████████████| 170498071/170498071 [00:02<00:00, 73854014.46it/s]\n",
      "Extracting ./data/cifar-10-python.tar.gz to ./data\n",
      "Files already downloaded and verified\n",
      "Epoch =  1: Cumulative Time = 25.637, Epoch Time = 25.637, Images/sec = 1937.2275390625, Training Accuracy = 0.425, Validation Loss = 1.221, Validation Accuracy = 0.567\n",
      "Epoch =  2: Cumulative Time = 50.755, Epoch Time = 25.119, Images/sec = 1971.70068359375, Training Accuracy = 0.606, Validation Loss = 1.054, Validation Accuracy = 0.625\n",
      "Epoch =  3: Cumulative Time = 76.515, Epoch Time = 25.760, Images/sec = 1927.956787109375, Training Accuracy = 0.686, Validation Loss = 1.115, Validation Accuracy = 0.641\n",
      "Epoch =  4: Cumulative Time = 102.481, Epoch Time = 25.966, Images/sec = 1912.65234375, Training Accuracy = 0.730, Validation Loss = 0.763, Validation Accuracy = 0.742\n",
      "Epoch =  5: Cumulative Time = 129.065, Epoch Time = 26.584, Images/sec = 1868.209716796875, Training Accuracy = 0.765, Validation Loss = 0.820, Validation Accuracy = 0.739\n",
      "Epoch =  6: Cumulative Time = 156.093, Epoch Time = 27.028, Images/sec = 1837.4873046875, Training Accuracy = 0.786, Validation Loss = 0.595, Validation Accuracy = 0.794\n",
      "Epoch =  7: Cumulative Time = 183.466, Epoch Time = 27.373, Images/sec = 1814.348388671875, Training Accuracy = 0.807, Validation Loss = 0.551, Validation Accuracy = 0.811\n",
      "Early stopping after epoch 7\n",
      "Early stopping after epoch 7\n",
      "Early stopping after epoch 7\n",
      "Early stopping after epoch 7\n"
     ]
    }
   ],
   "source": [
    "!python3 assessment.py --node-id 0 --num-gpus 4 --num-nodes 1  --batch-size 128 --target-accuracy 0.75 --patience 10"
   ]
  },
  {
   "cell_type": "markdown",
   "id": "f38ebee3-9d51-46dd-adcc-b77d04ffd3f8",
   "metadata": {},
   "source": [
    "Once you are able to execute the cell above, observing a `Cumulative Time` of less than 240 seconds, return to the browser tab where you launched this interactive environment and click the **ASSESS** button. Doing so will kick off the assessment harness, which will run your version of `assessment.py` in its entirety and perform several checks to make sure you have completed the objectives. The assessment will take as long to run as your script takes to complete, so please be patient.\n",
    "\n",
    "Once your code has run and been evaluated, you will receive a pop-up message indicating whether you have completed the assessment. If you have, you will receive a link to your certificate by way of email. If not, you will receive a message indicating what you may still need to do."
   ]
  }
 ],
 "metadata": {
  "jupytext": {
   "formats": "ipynb"
  },
  "kernelspec": {
   "display_name": "Python 3 (ipykernel)",
   "language": "python",
   "name": "python3"
  },
  "language_info": {
   "codemirror_mode": {
    "name": "ipython",
    "version": 3
   },
   "file_extension": ".py",
   "mimetype": "text/x-python",
   "name": "python",
   "nbconvert_exporter": "python",
   "pygments_lexer": "ipython3",
   "version": "3.8.13"
  }
 },
 "nbformat": 4,
 "nbformat_minor": 5
}
